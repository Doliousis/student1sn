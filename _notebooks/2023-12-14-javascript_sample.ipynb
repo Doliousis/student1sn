%%js

// assign variable
var hello = "Hello World";
console.log("variable: world")
console.log (hello)

// seeing the type of this data
console.log("variable: hello check typeof")

// add strings together
console.log("string concatenation: hello + Rohan")
console.log(hello + " Safin!")